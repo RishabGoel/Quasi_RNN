{
 "cells": [
  {
   "cell_type": "code",
   "execution_count": 1,
   "metadata": {
    "collapsed": true
   },
   "outputs": [],
   "source": [
    "import tensorflow as tf\n",
    "import tensorflow.examples.tutorials.mnist as mnist\n",
    "import numpy as np\n",
    "from sklearn.datasets import load_digits"
   ]
  },
  {
   "cell_type": "code",
   "execution_count": 2,
   "metadata": {
    "collapsed": false
   },
   "outputs": [
    {
     "name": "stdout",
     "output_type": "stream",
     "text": [
      "Extracting /tmp/data/train-images-idx3-ubyte.gz\n",
      "Extracting /tmp/data/train-labels-idx1-ubyte.gz\n",
      "Extracting /tmp/data/t10k-images-idx3-ubyte.gz\n",
      "Extracting /tmp/data/t10k-labels-idx1-ubyte.gz\n"
     ]
    }
   ],
   "source": [
    "mnist_data = mnist.input_data.read_data_sets(\"/tmp/data\", one_hot=True)"
   ]
  },
  {
   "cell_type": "code",
   "execution_count": 3,
   "metadata": {
    "collapsed": false
   },
   "outputs": [],
   "source": [
    "d = load_digits(n_class=10)"
   ]
  },
  {
   "cell_type": "code",
   "execution_count": 12,
   "metadata": {
    "collapsed": false
   },
   "outputs": [
    {
     "data": {
      "text/plain": [
       "['images', 'data', 'target_names', 'DESCR', 'target']"
      ]
     },
     "execution_count": 12,
     "metadata": {},
     "output_type": "execute_result"
    }
   ],
   "source": [
    "d.keys()"
   ]
  },
  {
   "cell_type": "code",
   "execution_count": null,
   "metadata": {
    "collapsed": true
   },
   "outputs": [],
   "source": [
    "data = d[\"data\"]"
   ]
  },
  {
   "cell_type": "code",
   "execution_count": 4,
   "metadata": {
    "collapsed": true
   },
   "outputs": [],
   "source": [
    "def reshape(x):\n",
    "    s = tf.reshape(x, [-1, 28, 28, 1])\n",
    "    d = tf.zeros([x.get_shape().as_list()[0], 28, 27, 1], dtype=tf.float32)\n",
    "    return tf.concat(2,[d, s])\n",
    "learning_rate = 0.001\n",
    "training_iters = 200\n",
    "batch_size = 12\n",
    "display_step = 10\n",
    "\n",
    "X = tf.placeholder(tf.float32,[batch_size, 784])\n",
    "X_reshaped = reshape(X)\n",
    "Y = tf.placeholder(tf.float32,[batch_size, 10])"
   ]
  },
  {
   "cell_type": "code",
   "execution_count": 9,
   "metadata": {
    "collapsed": false
   },
   "outputs": [],
   "source": [
    "def update(X, weights, b, idx):\n",
    "    # Convolution operation\n",
    "    # print X.get_shape(),\"gh\", idx\n",
    "    conv_z = tf.nn.conv2d(X, weights[idx][\"W_z\"], strides = [1, 1, 1, 1], padding = \"VALID\")\n",
    "    # print conv_z.get_shape(),\"de\"\n",
    "    # print weights[idx][\"W_z\"]\n",
    "    conv_z_reshaped = tf.nn.tanh(tf.transpose(conv_z, perm = [0,2,3,1]))\n",
    "    # print conv_z_reshaped.get_shape(),\"df\"\n",
    "    conv_f = tf.nn.conv2d(X, weights[idx][\"W_f\"], strides = [1, 1, 1, 1], padding = \"VALID\")\n",
    "    conv_f_reshaped = tf.nn.sigmoid(tf.transpose(conv_f, perm = [0,2,3,1]))\n",
    "    # print conv_z_reshaped.get_shape(),\"df1\"\n",
    "    # print conv_f.get_shape(),\"de\"\n",
    "    conv_o = tf.nn.conv2d(X, weights[idx][\"W_o\"], strides = [1, 1, 1, 1], padding = \"VALID\")\n",
    "    conv_o_reshaped = tf.nn.sigmoid(tf.transpose(conv_o, perm = [0,2,3,1]))\n",
    "    # print conv_z_reshaped.get_shape(),\"df2\"\n",
    "    # print conv_o.get_shape(),\"de2\"\n",
    "    c_conv = (1-conv_f_reshaped)*conv_z_reshaped\n",
    "\n",
    "    # Pooling operation\n",
    "    with tf.device('/cpu:0'):\n",
    "        for j in range(batch_size):\n",
    "            if j == 0:\n",
    "                c = weights[idx][\"c\"][-1,:,:,:]\n",
    "            else:\n",
    "                c = weights[idx][\"c\"][j-1,:,:,:]\n",
    "            for i in range(c.get_shape()[1]):\n",
    "                tmp = c[i,:,:]*conv_f_reshaped[j,i,:,:] + c_conv[j, i, :, :]\n",
    "                tmp = tf.reshape(tmp,[1,tmp.get_shape().as_list()[0],tmp.get_shape().as_list()[1]])\n",
    "                if i == 0:\n",
    "                    c = tf.concat(0,[tmp, c[i+1:,:,:]])\n",
    "                else:\n",
    "                    c = tf.concat(0,[c[:i,:,:],tmp, c[i+1:,:,:]])\n",
    "            c = tf.reshape(c, [1, c.get_shape().as_list()[0], c.get_shape().as_list()[1], c.get_shape().as_list()[2]])\n",
    "            if j==0:\n",
    "                weights[idx][\"c\"] = tf.concat(0,[c, weights[idx][\"c\"][j+1:,:,:,:]])\n",
    "            else:\n",
    "                weights[idx][\"c\"] = tf.concat(0,[weights[idx][\"c\"][:j,:,:,:], c, weights[idx][\"c\"][j+1:,:,:,:]])\n",
    "            weights[idx][\"h\"] = conv_o_reshaped*weights[idx][\"c\"]\n",
    "\n",
    "#     fc1 = tf.reshape(weights[idx][\"h\"], [-1, 560])\n",
    "#     fc1 = tf.nn.tanh(tf.add(tf.matmul(fc1, weights[idx][\"W\"]), b))\n",
    "    return weights[idx][\"c\"]\n"
   ]
  },
  {
   "cell_type": "code",
   "execution_count": 10,
   "metadata": {
    "collapsed": false
   },
   "outputs": [],
   "source": [
    "# create layers\n",
    "def quasinet(X, weights, biases):\n",
    "#     print X.get_shape(),\"g\"\n",
    "    layer_1 = update(X, weights, biases, 0)\n",
    "#     print layer_1.get_shape()\n",
    "    weights[0][\"c\"] = layer_1\n",
    "    dims = weights[1][\"W_z\"].get_shape().as_list()\n",
    "#     print dims\n",
    "    d = tf.zeros([layer_1.get_shape().as_list()[0], dims[0], dims[1]-1, 1], dtype=tf.float32)\n",
    "#     print d.get_shape()\n",
    "    layer_2 = tf.concat(2,[d, tf.transpose(layer_1, perm=[0,2,1,3])])\n",
    "#     print layer_2.get_shape()\n",
    "    layer_2 = update(layer_2, weights, biases, 1)\n",
    "    \n",
    "    \n",
    "    weights[1][\"c\"] = layer_2\n",
    "    dim_prod = layer_2.get_shape().as_list()\n",
    "    fc1 = tf.reshape(layer_2, [dim_prod[0], dim_prod[1]*dim_prod[2]])\n",
    "    \n",
    "    fc1 = tf.nn.tanh(tf.add(tf.matmul(fc1, weights[-1][\"W\"]), biases[-1]))\n",
    "    return fc1\n",
    "    "
   ]
  },
  {
   "cell_type": "code",
   "execution_count": 11,
   "metadata": {
    "collapsed": false
   },
   "outputs": [],
   "source": [
    "# Number of timesteps(T in the paper) and no of filters (m in the paper) are 28 and 20 respectively\n",
    "# weights = {\n",
    "#     \"W_z\" : tf.Variable(tf.random_normal([28, 28, 1, 20])),\n",
    "#     \"W_f\" : tf.Variable(tf.random_normal([28, 28, 1, 20])),\n",
    "#     \"W_o\" : tf.Variable(tf.random_normal([28, 28, 1, 20])),\n",
    "#     \"W\" : tf.Variable(tf.random_normal([560, 10])),\n",
    "#     \"h\" : tf.Variable(tf.zeros([batch_size, 28, 20, 1], dtype = tf.float32)),\n",
    "#     \"c\" : tf.Variable(tf.zeros([batch_size, 28, 20, 1], dtype = tf.float32))\n",
    "        \n",
    "# }\n",
    "# b = tf.Variable(tf.random_normal([10]))\n",
    "\n",
    "def create_weights(T, n, m):\n",
    "    weights = {\n",
    "        \"W_z\" : tf.Variable(tf.random_normal([n, T, 1, m])),\n",
    "        \"W_f\" : tf.Variable(tf.random_normal([n, T, 1, m])),\n",
    "        \"W_o\" : tf.Variable(tf.random_normal([n, T, 1, m])),\n",
    "        \"W\" : tf.Variable(tf.random_normal([T*m, 10])),\n",
    "        \"h\" : tf.Variable(tf.zeros([batch_size, T, m, 1], dtype = tf.float32)),\n",
    "        \"c\" : tf.Variable(tf.zeros([batch_size, T, m, 1], dtype = tf.float32))\n",
    "        \n",
    "    }\n",
    "    return weights\n",
    "\n",
    "# each element is tuple T, n, m specifying the layer\n",
    "# layer_params = [(28,20),(28,20),(28,20),(28,20),(28,20)]\n",
    "layer_params = [(28, 28, 20), (28, 20, 15)]\n",
    "weights = []\n",
    "biases = []\n",
    "for i in range(len(layer_params)):\n",
    "    weights.append(create_weights(layer_params[i][0],layer_params[i][1], layer_params[i][2]))\n",
    "    biases.append(tf.Variable(tf.random_normal([10])))\n",
    "# print weights\n",
    "# quasinet(X_reshaped, weights, biases)"
   ]
  },
  {
   "cell_type": "code",
   "execution_count": 12,
   "metadata": {
    "collapsed": false
   },
   "outputs": [
    {
     "name": "stdout",
     "output_type": "stream",
     "text": [
      "WARNING:tensorflow:From <ipython-input-12-0644d5a3b258>:7 in <module>.: initialize_all_variables (from tensorflow.python.ops.variables) is deprecated and will be removed after 2017-03-02.\n",
      "Instructions for updating:\n",
      "Use `tf.global_variables_initializer` instead.\n"
     ]
    },
    {
     "name": "stderr",
     "output_type": "stream",
     "text": [
      "WARNING:tensorflow:From <ipython-input-12-0644d5a3b258>:7 in <module>.: initialize_all_variables (from tensorflow.python.ops.variables) is deprecated and will be removed after 2017-03-02.\n",
      "Instructions for updating:\n",
      "Use `tf.global_variables_initializer` instead.\n"
     ]
    }
   ],
   "source": [
    "pred = quasinet(X_reshaped, weights, biases)\n",
    "cost = tf.reduce_mean(tf.nn.softmax_cross_entropy_with_logits(pred, Y))\n",
    "optimizer = tf.train.AdamOptimizer(learning_rate=learning_rate).minimize(cost)\n",
    "correct_pred = tf.equal(tf.argmax(pred, 1), tf.argmax(Y, 1))\n",
    "accuracy = tf.reduce_mean(tf.cast(correct_pred, tf.float32))\n",
    "init = tf.initialize_all_variables()"
   ]
  },
  {
   "cell_type": "code",
   "execution_count": 16,
   "metadata": {
    "collapsed": false
   },
   "outputs": [
    {
     "name": "stdout",
     "output_type": "stream",
     "text": [
      "Iter 120, Minibatch Loss= 2.690292, Training Accuracy= 0.00000\n",
      "Optimization Finished!\n",
      "Testing Accuracy:"
     ]
    },
    {
     "ename": "AttributeError",
     "evalue": "'module' object has no attribute 'test'",
     "output_type": "error",
     "traceback": [
      "\u001b[1;31m---------------------------------------------------------------------------\u001b[0m",
      "\u001b[1;31mAttributeError\u001b[0m                            Traceback (most recent call last)",
      "\u001b[1;32m<ipython-input-16-2098410984b4>\u001b[0m in \u001b[0;36m<module>\u001b[1;34m()\u001b[0m\n\u001b[0;32m     16\u001b[0m \u001b[1;33m\u001b[0m\u001b[0m\n\u001b[0;32m     17\u001b[0m     \u001b[1;31m# Calculate accuracy for 256 mnist test images\u001b[0m\u001b[1;33m\u001b[0m\u001b[1;33m\u001b[0m\u001b[0m\n\u001b[1;32m---> 18\u001b[1;33m     print \"Testing Accuracy:\",         sess.run(accuracy, feed_dict={x: mnist.test.images[:256],\n\u001b[0m\u001b[0;32m     19\u001b[0m                                       y: mnist.test.labels[:256]})\n",
      "\u001b[1;31mAttributeError\u001b[0m: 'module' object has no attribute 'test'"
     ]
    }
   ],
   "source": [
    "with tf.Session() as sess:\n",
    "    sess.run(init)\n",
    "    step = 1\n",
    "    # Keep training until reach max iterations\n",
    "    while step * batch_size < training_iters:\n",
    "        batch_x, batch_y = mnist_data.train.next_batch(batch_size)\n",
    "        # Run optimization op (backprop)\n",
    "        sess.run(optimizer, feed_dict={X: batch_x, Y: batch_y})\n",
    "        if step % display_step == 0:\n",
    "            # Calculate batch loss and accuracy\n",
    "            loss, acc = sess.run([cost, accuracy], feed_dict={X: batch_x,\n",
    "                                                              Y: batch_y})\n",
    "            print \"Iter \" + str(step*batch_size) + \", Minibatch Loss= \" + \\\n",
    "                  \"{:.6f}\".format(loss) + \", Training Accuracy= \" + \\\n",
    "                  \"{:.5f}\".format(acc)\n",
    "        step += 1\n",
    "    print \"Optimization Finished!\"\n",
    "\n",
    "    # Calculate accuracy for 256 mnist test images\n",
    "    print \"Testing Accuracy:\", \\\n",
    "        sess.run(accuracy, feed_dict={x: mnist.test.images[:256],\n",
    "                                      y: mnist.test.labels[:256]})"
   ]
  },
  {
   "cell_type": "code",
   "execution_count": null,
   "metadata": {
    "collapsed": true
   },
   "outputs": [],
   "source": []
  }
 ],
 "metadata": {
  "kernelspec": {
   "display_name": "Python 2",
   "language": "python",
   "name": "python2"
  },
  "language_info": {
   "codemirror_mode": {
    "name": "ipython",
    "version": 2
   },
   "file_extension": ".py",
   "mimetype": "text/x-python",
   "name": "python",
   "nbconvert_exporter": "python",
   "pygments_lexer": "ipython2",
   "version": "2.7.6"
  }
 },
 "nbformat": 4,
 "nbformat_minor": 0
}

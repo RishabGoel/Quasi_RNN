{
 "cells": [
  {
   "cell_type": "code",
   "execution_count": 1,
   "metadata": {
    "collapsed": true
   },
   "outputs": [],
   "source": [
    "import tensorflow as tf\n",
    "import tensorflow.examples.tutorials.mnist as mnist\n",
    "import numpy as np"
   ]
  },
  {
   "cell_type": "code",
   "execution_count": 2,
   "metadata": {
    "collapsed": false
   },
   "outputs": [
    {
     "name": "stdout",
     "output_type": "stream",
     "text": [
      "Extracting /tmp/data/train-images-idx3-ubyte.gz\n",
      "Extracting /tmp/data/train-labels-idx1-ubyte.gz\n",
      "Extracting /tmp/data/t10k-images-idx3-ubyte.gz\n",
      "Extracting /tmp/data/t10k-labels-idx1-ubyte.gz\n"
     ]
    }
   ],
   "source": [
    "mnist_data = mnist.input_data.read_data_sets(\"/tmp/data\", one_hot=True)"
   ]
  },
  {
   "cell_type": "code",
   "execution_count": 3,
   "metadata": {
    "collapsed": true
   },
   "outputs": [],
   "source": [
    "def reshape(x):\n",
    "    s = tf.reshape(x, [-1, 28, 28, 1])\n",
    "    d = tf.zeros([x.get_shape().as_list()[0], 28, 27, 1], dtype=tf.float32)\n",
    "    return tf.concat(2,[d, s])\n",
    "learning_rate = 0.001\n",
    "training_iters = 2\n",
    "batch_size = 128\n",
    "display_step = 10\n",
    "\n",
    "X = tf.placeholder(tf.float32,[batch_size, 784])\n",
    "X_reshaped = reshape(X)\n",
    "Y = tf.placeholder(tf.float32,[1, 10])"
   ]
  },
  {
   "cell_type": "code",
   "execution_count": 4,
   "metadata": {
    "collapsed": false
   },
   "outputs": [],
   "source": [
    "def update(X, weights, b):\n",
    "    # Convolution operation\n",
    "    conv_z = tf.nn.conv2d(X_reshaped, weights[\"W_z\"], strides = [1, 1, 1, 1], padding = \"VALID\")\n",
    "    conv_z_reshaped = tf.nn.tanh(tf.transpose(conv_z, perm = [0,2,3,1]))\n",
    "    conv_f = tf.nn.conv2d(X_reshaped, weights[\"W_f\"], strides = [1, 1, 1, 1], padding = \"VALID\")\n",
    "    conv_f_reshaped = tf.nn.sigmoid(tf.transpose(conv_f, perm = [0,2,3,1]))\n",
    "    conv_o = tf.nn.conv2d(X_reshaped, weights[\"W_o\"], strides = [1, 1, 1, 1], padding = \"VALID\")\n",
    "    conv_o_reshaped = tf.nn.sigmoid(tf.transpose(conv_o, perm = [0,2,3,1]))\n",
    "    c_conv = (1-conv_f_reshaped)*conv_z_reshaped\n",
    "\n",
    "    # Pooling operation\n",
    "    with tf.device('/gpu:0'):\n",
    "        for j in range(2):\n",
    "            if j == 0:\n",
    "                c = weights[\"c\"][-1,:,:,:]\n",
    "            else:\n",
    "                c = weights[\"c\"][j-1,:,:,:]\n",
    "            for i in range(c.get_shape()[1]):\n",
    "                tmp = c[i,:,:]*conv_f_reshaped[j,i,:,:] + c_conv[j, i, :, :]\n",
    "                tmp = tf.reshape(tmp,[1,tmp.get_shape().as_list()[0],tmp.get_shape().as_list()[1]])\n",
    "                if i == 0:\n",
    "                    c = tf.concat(0,[tmp, c[i+1:,:,:]])\n",
    "                else:\n",
    "                    c = tf.concat(0,[c[:i,:,:],tmp, c[i+1:,:,:]])\n",
    "            c = tf.reshape(c, [1, c.get_shape().as_list()[0], c.get_shape().as_list()[1], c.get_shape().as_list()[2]])\n",
    "            if j==0:\n",
    "                weights[\"c\"] = tf.concat(0,[c, weights[\"c\"][j+1:,:,:,:]])\n",
    "            else:\n",
    "                weights[\"c\"] = tf.concat(0,[weights[\"c\"][:j,:,:,:], c, weights[\"c\"][j+1:,:,:,:]])\n",
    "            weights[\"h\"] = conv_o_reshaped*weights[\"c\"]\n",
    "\n",
    "    fc1 = tf.reshape(weights[\"h\"], [-1, 560])\n",
    "    fc1 = tf.nn.tanh(tf.add(tf.matmul(fc1, weights[\"W\"]), b))\n",
    "    return fc1\n"
   ]
  },
  {
   "cell_type": "code",
   "execution_count": 5,
   "metadata": {
    "collapsed": true
   },
   "outputs": [],
   "source": [
    "# Number of timesteps(T in the paper) and no of filters (m in the paper) are 28 and 20 respectively\n",
    "weights = {\n",
    "    \"W_z\" : tf.Variable(tf.random_normal([28, 28, 1, 20])),\n",
    "    \"W_f\" : tf.Variable(tf.random_normal([28, 28, 1, 20])),\n",
    "    \"W_o\" : tf.Variable(tf.random_normal([28, 28, 1, 20])),\n",
    "    \"W\" : tf.Variable(tf.random_normal([560, 10])),\n",
    "    \"h\" : tf.Variable(tf.zeros([batch_size, 28, 20, 1], dtype = tf.float32)),\n",
    "    \"c\" : tf.Variable(tf.zeros([batch_size, 28, 20, 1], dtype = tf.float32))\n",
    "        \n",
    "}\n",
    "b = tf.Variable(tf.random_normal([10]))\n"
   ]
  },
  {
   "cell_type": "code",
   "execution_count": 6,
   "metadata": {
    "collapsed": false
   },
   "outputs": [
    {
     "name": "stdout",
     "output_type": "stream",
     "text": [
      "WARNING:tensorflow:From <ipython-input-6-407594be57cf>:2 in <module>.: initialize_all_variables (from tensorflow.python.ops.variables) is deprecated and will be removed after 2017-03-02.\n",
      "Instructions for updating:\n",
      "Use `tf.global_variables_initializer` instead.\n"
     ]
    },
    {
     "name": "stderr",
     "output_type": "stream",
     "text": [
      "WARNING:tensorflow:From <ipython-input-6-407594be57cf>:2 in <module>.: initialize_all_variables (from tensorflow.python.ops.variables) is deprecated and will be removed after 2017-03-02.\n",
      "Instructions for updating:\n",
      "Use `tf.global_variables_initializer` instead.\n"
     ]
    }
   ],
   "source": [
    "pred = update(X_reshaped, weights, b)\n",
    "\n",
    "cost = tf.reduce_mean(tf.nn.softmax_cross_entropy_with_logits(pred, Y))\n",
    "optimizer = tf.train.AdamOptimizer(learning_rate=learning_rate).minimize(cost)\n",
    "correct_pred = tf.equal(tf.argmax(pred, 1), tf.argmax(Y, 1))\n",
    "accuracy = tf.reduce_mean(tf.cast(correct_pred, tf.float32))\n",
    "init = tf.initialize_all_variables()"
   ]
  },
  {
   "cell_type": "code",
   "execution_count": null,
   "metadata": {
    "collapsed": true
   },
   "outputs": [],
   "source": [
    "with tf.Session() as sess:\n",
    "    sess.run(init)\n",
    "    step = 1\n",
    "    # Keep training until reach max iterations\n",
    "    while step * batch_size < training_iters:\n",
    "        batch_x, batch_y = mnist.train.next_batch(batch_size)\n",
    "        # Run optimization op (backprop)\n",
    "        sess.run(optimizer, feed_dict={x: batch_x, y: batch_y})\n",
    "        if step % display_step == 0:\n",
    "            # Calculate batch loss and accuracy\n",
    "            loss, acc = sess.run([cost, accuracy], feed_dict={x: batch_x,\n",
    "                                                              y: batch_y})\n",
    "            print \"Iter \" + str(step*batch_size) + \", Minibatch Loss= \" + \\\n",
    "                  \"{:.6f}\".format(loss) + \", Training Accuracy= \" + \\\n",
    "                  \"{:.5f}\".format(acc)\n",
    "        step += 1\n",
    "    print \"Optimization Finished!\"\n",
    "\n",
    "    # Calculate accuracy for 256 mnist test images\n",
    "    print \"Testing Accuracy:\", \\\n",
    "        sess.run(accuracy, feed_dict={x: mnist.test.images[:256],\n",
    "                                      y: mnist.test.labels[:256]})"
   ]
  },
  {
   "cell_type": "code",
   "execution_count": null,
   "metadata": {
    "collapsed": true
   },
   "outputs": [],
   "source": []
  }
 ],
 "metadata": {
  "kernelspec": {
   "display_name": "Python 2",
   "language": "python",
   "name": "python2"
  },
  "language_info": {
   "codemirror_mode": {
    "name": "ipython",
    "version": 2
   },
   "file_extension": ".py",
   "mimetype": "text/x-python",
   "name": "python",
   "nbconvert_exporter": "python",
   "pygments_lexer": "ipython2",
   "version": "2.7.6"
  }
 },
 "nbformat": 4,
 "nbformat_minor": 0
}
